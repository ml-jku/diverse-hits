{
 "cells": [
  {
   "cell_type": "code",
   "execution_count": 1,
   "metadata": {},
   "outputs": [
    {
     "name": "stdout",
     "output_type": "stream",
     "text": [
      "0\n"
     ]
    },
    {
     "name": "stderr",
     "output_type": "stream",
     "text": [
      "0it [00:00, ?it/s]\n"
     ]
    },
    {
     "data": {
      "text/plain": [
       "[]"
      ]
     },
     "execution_count": 1,
     "metadata": {},
     "output_type": "execute_result"
    }
   ],
   "source": [
    "import glob\n",
    "import os\n",
    "\n",
    "import pandas as pd\n",
    "from joblib import Parallel, delayed\n",
    "from tqdm import tqdm\n",
    "\n",
    "files = glob.glob(\"../runs_parquet/*/*/*.csv\")\n",
    "# get file sizes and sort by size\n",
    "files = sorted(files, key=lambda x: os.path.getsize(x), reverse=True)\n",
    "\n",
    "# for fname in tqdm(files):\n",
    "#     df = pd.read_csv(fname)\n",
    "#     fname_parquet = fname.replace(\".csv\", \".parquet\")\n",
    "#     df.to_parquet(fname_parquet)\n",
    "#     os.remove(fname)\n",
    "\n",
    "\n",
    "# do the above in a function so we can parallelize it\n",
    "def convert_to_parquet(fname):\n",
    "    df = pd.read_csv(fname)\n",
    "    fname_parquet = fname.replace(\".csv\", \".parquet\")\n",
    "    df.to_parquet(fname_parquet)\n",
    "    os.remove(fname)\n",
    "\n",
    "\n",
    "print(len(files))\n",
    "\n",
    "\n",
    "Parallel(n_jobs=12)(delayed(convert_to_parquet)(fname) for fname in tqdm(files))"
   ]
  }
 ],
 "metadata": {
  "kernelspec": {
   "display_name": "base",
   "language": "python",
   "name": "python3"
  },
  "language_info": {
   "codemirror_mode": {
    "name": "ipython",
    "version": 3
   },
   "file_extension": ".py",
   "mimetype": "text/x-python",
   "name": "python",
   "nbconvert_exporter": "python",
   "pygments_lexer": "ipython3",
   "version": "3.11.5"
  }
 },
 "nbformat": 4,
 "nbformat_minor": 2
}
