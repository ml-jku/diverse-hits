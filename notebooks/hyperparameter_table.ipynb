{
 "cells": [
  {
   "cell_type": "code",
   "execution_count": 1,
   "metadata": {},
   "outputs": [],
   "source": [
    "%load_ext autoreload\n",
    "%autoreload 2"
   ]
  },
  {
   "cell_type": "code",
   "execution_count": 2,
   "metadata": {},
   "outputs": [],
   "source": [
    "import glob\n",
    "import json\n",
    "import os\n",
    "from math import log10\n",
    "\n",
    "import pandas as pd"
   ]
  },
  {
   "cell_type": "code",
   "execution_count": 3,
   "metadata": {},
   "outputs": [],
   "source": [
    "runs_base = \"../runs/\"\n",
    "hyperpar_dir = os.path.join(runs_base, \"hyperparameter_search\")\n",
    "\n",
    "with open(\"../data/search_spaces.json\", \"r\") as f:\n",
    "    search_spaces_str = json.load(f)"
   ]
  },
  {
   "cell_type": "code",
   "execution_count": 4,
   "metadata": {},
   "outputs": [
    {
     "data": {
      "text/plain": [
       "'loguniform($10^{-4}, 10^{-3}$)'"
      ]
     },
     "execution_count": 4,
     "metadata": {},
     "output_type": "execute_result"
    }
   ],
   "source": [
    "ss = search_spaces_str[\"AugHC\"][\"learning_rate\"]\n",
    "\n",
    "\n",
    "def dist_to_string(search_space):\n",
    "    dist_name, (a, b) = search_space\n",
    "    if dist_name == \"loguniform\":\n",
    "        # use latex 10^{} notation\n",
    "        a = log10(a)\n",
    "        b = log10(b)\n",
    "\n",
    "        return f\"{dist_name}($10^{{{a:.0f}}}, 10^{{{b:.0f}}}$)\"\n",
    "    else:\n",
    "        return f\"{dist_name}({a}, {b})\"\n",
    "\n",
    "\n",
    "dist_to_string(ss)"
   ]
  },
  {
   "cell_type": "code",
   "execution_count": 5,
   "metadata": {},
   "outputs": [
    {
     "name": "stdout",
     "output_type": "stream",
     "text": [
      "Loaded 39 configs\n",
      "Loaded 39 configs\n"
     ]
    }
   ],
   "source": [
    "def load_configs(limit_dir):\n",
    "    run_dirs = glob.glob(limit_dir + \"/*\")\n",
    "    run_dirs = [r for r in run_dirs if r.endswith(\"0\")]\n",
    "    # load config files for the run_dirs\n",
    "    configs = []\n",
    "    for run_dir in run_dirs:\n",
    "        config = {}\n",
    "        with open(run_dir + \"/config.json\", \"r\") as f:\n",
    "            config = json.load(f)\n",
    "        configs.append(config)\n",
    "    print(f\"Loaded {len(configs)} configs\")\n",
    "\n",
    "    df = pd.DataFrame(configs)\n",
    "    df.sort_values(by=[\"optimizer_name\", \"scoring_function_name\"], inplace=True)\n",
    "    df = df[[\"optimizer_name\", \"scoring_function_name\", \"optimizer_args\"]]\n",
    "    # drop VS rows\n",
    "    df = df[df[\"optimizer_name\"] != \"VS\"]\n",
    "    return df\n",
    "\n",
    "\n",
    "dfs = []\n",
    "\n",
    "limit_name_dict = {\n",
    "    \"samples\": \"Samples\",\n",
    "    \"time\": \"Time\",\n",
    "}\n",
    "\n",
    "for limit_name in [\"samples\", \"time\"]:\n",
    "    limit_dir = os.path.join(runs_base, f\"best_variance_{limit_name}/\")\n",
    "    df_best = load_configs(limit_dir)\n",
    "    df_best[\"limit_name\"] = limit_name_dict[limit_name]\n",
    "    dfs.append(df_best)\n",
    "df_best = pd.concat(dfs)"
   ]
  },
  {
   "cell_type": "code",
   "execution_count": 6,
   "metadata": {},
   "outputs": [],
   "source": [
    "def float_to_latex_sci_notation(number):\n",
    "    \"\"\"\n",
    "    Converts a float to a string in scientific notation compatible with LaTeX.\n",
    "    \"\"\"\n",
    "    if number == 0:\n",
    "        return \"0\"\n",
    "\n",
    "    sci_notation = f\"{number:.2e}\"  # Adjust the precision as needed\n",
    "    base, exponent = sci_notation.split(\"e\")\n",
    "    exponent = int(exponent)  # Convert exponent to an integer\n",
    "\n",
    "    return f\"${base} \\\\times 10^{{{exponent}}}$\""
   ]
  },
  {
   "cell_type": "code",
   "execution_count": 7,
   "metadata": {},
   "outputs": [
    {
     "data": {
      "text/html": [
       "<div>\n",
       "<style scoped>\n",
       "    .dataframe tbody tr th:only-of-type {\n",
       "        vertical-align: middle;\n",
       "    }\n",
       "\n",
       "    .dataframe tbody tr th {\n",
       "        vertical-align: top;\n",
       "    }\n",
       "\n",
       "    .dataframe thead th {\n",
       "        text-align: right;\n",
       "    }\n",
       "</style>\n",
       "<table border=\"1\" class=\"dataframe\">\n",
       "  <thead>\n",
       "    <tr style=\"text-align: right;\">\n",
       "      <th></th>\n",
       "      <th>Optimizer</th>\n",
       "      <th>Task</th>\n",
       "      <th>Parameter</th>\n",
       "      <th>Search Space</th>\n",
       "      <th>Selected</th>\n",
       "      <th>Limit</th>\n",
       "    </tr>\n",
       "  </thead>\n",
       "  <tbody>\n",
       "    <tr>\n",
       "      <th>0</th>\n",
       "      <td>AugHC</td>\n",
       "      <td>DRD2</td>\n",
       "      <td>\\texttt{batch\\_size}</td>\n",
       "      <td>RandInt(128, 512)</td>\n",
       "      <td>482</td>\n",
       "      <td>Samples</td>\n",
       "    </tr>\n",
       "    <tr>\n",
       "      <th>1</th>\n",
       "      <td>AugHC</td>\n",
       "      <td>DRD2</td>\n",
       "      <td>\\texttt{sigma}</td>\n",
       "      <td>Uniform(100.0, 500.0)</td>\n",
       "      <td>432.90</td>\n",
       "      <td>Samples</td>\n",
       "    </tr>\n",
       "    <tr>\n",
       "      <th>2</th>\n",
       "      <td>AugHC</td>\n",
       "      <td>DRD2</td>\n",
       "      <td>\\texttt{topk}</td>\n",
       "      <td>Uniform(0.15, 0.35)</td>\n",
       "      <td>0.16</td>\n",
       "      <td>Samples</td>\n",
       "    </tr>\n",
       "    <tr>\n",
       "      <th>3</th>\n",
       "      <td>AugHC</td>\n",
       "      <td>DRD2</td>\n",
       "      <td>\\texttt{learning\\_rate}</td>\n",
       "      <td>LogUniform($10^{-4}, 10^{-3}$)</td>\n",
       "      <td>\\num{3.55e-04}</td>\n",
       "      <td>Samples</td>\n",
       "    </tr>\n",
       "    <tr>\n",
       "      <th>4</th>\n",
       "      <td>AugHC</td>\n",
       "      <td>GSK3</td>\n",
       "      <td>\\texttt{batch\\_size}</td>\n",
       "      <td>RandInt(128, 512)</td>\n",
       "      <td>305</td>\n",
       "      <td>Samples</td>\n",
       "    </tr>\n",
       "  </tbody>\n",
       "</table>\n",
       "</div>"
      ],
      "text/plain": [
       "  Optimizer  Task                Parameter                    Search Space  \\\n",
       "0     AugHC  DRD2     \\texttt{batch\\_size}               RandInt(128, 512)   \n",
       "1     AugHC  DRD2           \\texttt{sigma}           Uniform(100.0, 500.0)   \n",
       "2     AugHC  DRD2            \\texttt{topk}             Uniform(0.15, 0.35)   \n",
       "3     AugHC  DRD2  \\texttt{learning\\_rate}  LogUniform($10^{-4}, 10^{-3}$)   \n",
       "4     AugHC  GSK3     \\texttt{batch\\_size}               RandInt(128, 512)   \n",
       "\n",
       "         Selected    Limit  \n",
       "0             482  Samples  \n",
       "1          432.90  Samples  \n",
       "2            0.16  Samples  \n",
       "3  \\num{3.55e-04}  Samples  \n",
       "4             305  Samples  "
      ]
     },
     "execution_count": 7,
     "metadata": {},
     "output_type": "execute_result"
    }
   ],
   "source": [
    "arg_table_rows = []\n",
    "\n",
    "for i, row in df_best.iterrows():\n",
    "    optimizer_name = row[\"optimizer_name\"]\n",
    "    optimizer_args = row[\"optimizer_args\"]\n",
    "    task = row[\"scoring_function_name\"]\n",
    "    limit_name = row[\"limit_name\"]\n",
    "    optimizer_args = {k: v for k, v in optimizer_args.items() if k in search_spaces_str[optimizer_name]}\n",
    "\n",
    "    for arg_name, best in optimizer_args.items():\n",
    "        dist_name, (a, b) = search_spaces_str[optimizer_name][arg_name]\n",
    "        if dist_name == \"loguniform\":\n",
    "            # use latex 10^{} scientific with two significant digits for best\n",
    "            # best = float_to_latex_sci_notation(best)\n",
    "            best = f\"\\\\num{{{best:.2e}}}\"\n",
    "        elif best == int(best):\n",
    "            best = str(best)\n",
    "        else:\n",
    "            best = f\"{best:.2f}\"\n",
    "\n",
    "        arg_table_row = {\n",
    "            \"Optimizer\": optimizer_name,\n",
    "            \"Task\": task,\n",
    "            \"Parameter\": arg_name,\n",
    "            \"Search Space\": dist_to_string(search_spaces_str[optimizer_name][arg_name]),\n",
    "            \"Selected\": best,\n",
    "            \"Limit\": limit_name,\n",
    "        }\n",
    "        arg_table_rows.append(arg_table_row)\n",
    "df_raw = pd.DataFrame(arg_table_rows)\n",
    "df_raw[\"Search Space\"] = df_raw[\"Search Space\"].str.replace(\"loguniform\", \"LogUniform\")\n",
    "df_raw[\"Search Space\"] = df_raw[\"Search Space\"].str.replace(\"uniform\", \"Uniform\")\n",
    "df_raw[\"Search Space\"] = df_raw[\"Search Space\"].str.replace(\"randint\", \"RandInt\")\n",
    "df_raw[\"Parameter\"] = df_raw[\"Parameter\"].apply(lambda x: f\"\\\\texttt{{{x}}}\")\n",
    "# escape underscores\n",
    "df_raw[\"Parameter\"] = df_raw[\"Parameter\"].str.replace(\"_\", \"\\\\_\")\n",
    "df_raw.head()"
   ]
  },
  {
   "cell_type": "code",
   "execution_count": 8,
   "metadata": {},
   "outputs": [],
   "source": [
    "# pivot dataframe such that task values are columns\n",
    "df_pivot = df_raw.pivot(index=[\"Optimizer\", \"Parameter\", \"Search Space\"], columns=[\"Limit\", \"Task\"], values=\"Selected\")"
   ]
  },
  {
   "cell_type": "code",
   "execution_count": 10,
   "metadata": {},
   "outputs": [],
   "source": [
    "# convert to latex table, no lines between rows, just multirows\n",
    "\n",
    "latex_table = df_pivot.to_latex(\n",
    "    escape=False, multicolumn_format=\"c\", multicolumn=True, multirow=True, index_names=False, column_format=\"lllrrrrrr\"\n",
    ")\n",
    "# Modify the LaTeX code to include \\cline for multirows\n",
    "lines = latex_table.split(\"\\n\")\n",
    "new_lines = []\n",
    "\n",
    "for i, line in enumerate(lines):\n",
    "    if line.startswith(r\"\\midrule\"):\n",
    "        continue\n",
    "    if \"cline\" in line:\n",
    "        continue\n",
    "    if \"multirow\" in line or line.startswith(\"Stoned\"):\n",
    "        new_lines.append(r\"\\midrule\")\n",
    "\n",
    "    new_lines.append(line)\n",
    "\n",
    "\n",
    "column_names_line = lines[3].split(\" & \")\n",
    "column_names_line[0] = r\"Optimizer\"\n",
    "column_names_line[1] = r\"Parameter\"\n",
    "column_names_line[2] = r\"Search Space\"\n",
    "new_lines[3] = \" & \".join(column_names_line)\n",
    "\n",
    "new_lines.insert(3, r\"\\cmidrule(lr){4-6} \\cmidrule(lr){7-9}\")\n",
    "\n",
    "new_lines.insert(0, r\"%chktex-file 36\")\n",
    "# Combine modified lines\n",
    "modified_latex_table = \"\\n\".join(new_lines)\n",
    "\n",
    "modified_latex_table = modified_latex_table.replace(\"GSK3\", r\"GSK3$\\beta$\")\n",
    "with open(\"tables/hyperparameter_table.tex\", \"w\") as f:\n",
    "    f.write(modified_latex_table)"
   ]
  }
 ],
 "metadata": {
  "kernelspec": {
   "display_name": "base",
   "language": "python",
   "name": "python3"
  },
  "language_info": {
   "codemirror_mode": {
    "name": "ipython",
    "version": 3
   },
   "file_extension": ".py",
   "mimetype": "text/x-python",
   "name": "python",
   "nbconvert_exporter": "python",
   "pygments_lexer": "ipython3",
   "version": "3.11.3"
  }
 },
 "nbformat": 4,
 "nbformat_minor": 2
}
